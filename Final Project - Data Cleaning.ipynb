{
 "cells": [
  {
   "cell_type": "markdown",
   "id": "cca5b27b-7c51-46da-8b78-28d55a5e3d96",
   "metadata": {},
   "source": [
    "#### Ryan Gilbert\n",
    "#### CMP 262-56145\n",
    "#### Final Project - Data Cleaning"
   ]
  },
  {
   "cell_type": "markdown",
   "id": "b1f283ef-96ad-4d27-814c-a33123ecdc85",
   "metadata": {},
   "source": [
    "# Objectives"
   ]
  },
  {
   "cell_type": "markdown",
   "id": "b3ef4f81-7f2b-43b9-83f1-6613dc60b4e6",
   "metadata": {},
   "source": [
    "## Determine Answers to Following and Resolve: "
   ]
  },
  {
   "cell_type": "markdown",
   "id": "7ed7920d-9eb7-4ea0-9e3f-d2c8a5023fd7",
   "metadata": {},
   "source": [
    "### - Did your exploratory analysis from last week highlight anything that needs to be cleaned?\n",
    "### - Investigate any NaN's that you find. Should these be replaced with another value? If so, what would be the best value? Should that record be deleted instead?\n",
    "### - Are there outliers to any of the data items? What could explain those outliers? Should those records be changed or deleted?\n",
    "### - Are the column names not in a format that makes it easy to refer to?\n",
    "### - Do you need to merge multiple datasets into one?\n",
    "### - Do you need to split up a column's data into multiple columns or simplify its values?"
   ]
  },
  {
   "cell_type": "markdown",
   "id": "f0101ecd-9d0c-4b1a-bf66-b70f97254994",
   "metadata": {},
   "source": [
    "# Import Modules for Data Cleaning"
   ]
  },
  {
   "cell_type": "code",
   "execution_count": 1,
   "id": "e36c91bb-8b4f-4be0-87ea-150294c8df2f",
   "metadata": {},
   "outputs": [],
   "source": [
    "import pandas as pd\n",
    "import matplotlib.pyplot as plt\n",
    "import seaborn as sns\n",
    "import numpy as np"
   ]
  },
  {
   "cell_type": "markdown",
   "id": "40edfb41-a4e7-49aa-8584-7b3fd0ce8301",
   "metadata": {},
   "source": [
    "# Using Pandas to Read CSV File & Saving to Pandas Dataframe"
   ]
  },
  {
   "cell_type": "code",
   "execution_count": 2,
   "id": "10fd6042-1046-43b0-87f3-0ad5e22d555e",
   "metadata": {},
   "outputs": [],
   "source": [
    "df = pd.read_csv(\"ISPP_School_Summary.csv\")"
   ]
  },
  {
   "cell_type": "markdown",
   "id": "ab67a27b-7128-40ec-97bc-f4952ae31a07",
   "metadata": {},
   "source": [
    "### Confirming that Dataset was Successfully Extracted"
   ]
  },
  {
   "cell_type": "code",
   "execution_count": 3,
   "id": "dbefe004-6a7f-455f-ac61-44106a4ca9a8",
   "metadata": {},
   "outputs": [
    {
     "data": {
      "text/html": [
       "<div>\n",
       "<style scoped>\n",
       "    .dataframe tbody tr th:only-of-type {\n",
       "        vertical-align: middle;\n",
       "    }\n",
       "\n",
       "    .dataframe tbody tr th {\n",
       "        vertical-align: top;\n",
       "    }\n",
       "\n",
       "    .dataframe thead th {\n",
       "        text-align: right;\n",
       "    }\n",
       "</style>\n",
       "<table border=\"1\" class=\"dataframe\">\n",
       "  <thead>\n",
       "    <tr style=\"text-align: right;\">\n",
       "      <th></th>\n",
       "      <th>Reporting_Year</th>\n",
       "      <th>School_Code</th>\n",
       "      <th>School_Name</th>\n",
       "      <th>District_Code</th>\n",
       "      <th>District_Name</th>\n",
       "      <th>AEA_Name</th>\n",
       "      <th>Grade_Range</th>\n",
       "      <th>School_Type</th>\n",
       "      <th>School_Index</th>\n",
       "      <th>School_Rating_Category</th>\n",
       "      <th>...</th>\n",
       "      <th>Index_EL</th>\n",
       "      <th>Index_FRL</th>\n",
       "      <th>Index_IEP</th>\n",
       "      <th>Index_Asian</th>\n",
       "      <th>Index_Black</th>\n",
       "      <th>Index_PacIs</th>\n",
       "      <th>Index_Hispanic</th>\n",
       "      <th>Index_Multi</th>\n",
       "      <th>Index_NatAm</th>\n",
       "      <th>Index_White</th>\n",
       "    </tr>\n",
       "  </thead>\n",
       "  <tbody>\n",
       "    <tr>\n",
       "      <th>842</th>\n",
       "      <td>2022-2023</td>\n",
       "      <td>47250109</td>\n",
       "      <td>Newton Senior High  School</td>\n",
       "      <td>4725</td>\n",
       "      <td>Newton Comm School District</td>\n",
       "      <td>Heartland AEA</td>\n",
       "      <td>(09, 10, 11, 12)</td>\n",
       "      <td>High</td>\n",
       "      <td>54.42</td>\n",
       "      <td>Acceptable</td>\n",
       "      <td>...</td>\n",
       "      <td>NaN</td>\n",
       "      <td>50.56</td>\n",
       "      <td>43.47</td>\n",
       "      <td>NaN</td>\n",
       "      <td>NaN</td>\n",
       "      <td>NaN</td>\n",
       "      <td>52.13</td>\n",
       "      <td>NaN</td>\n",
       "      <td>NaN</td>\n",
       "      <td>54.53</td>\n",
       "    </tr>\n",
       "  </tbody>\n",
       "</table>\n",
       "<p>1 rows × 71 columns</p>\n",
       "</div>"
      ],
      "text/plain": [
       "    Reporting_Year  School_Code                 School_Name  District_Code  \\\n",
       "842      2022-2023     47250109  Newton Senior High  School           4725   \n",
       "\n",
       "                   District_Name       AEA_Name       Grade_Range School_Type  \\\n",
       "842  Newton Comm School District  Heartland AEA  (09, 10, 11, 12)        High   \n",
       "\n",
       "     School_Index School_Rating_Category  ... Index_EL Index_FRL Index_IEP  \\\n",
       "842         54.42             Acceptable  ...      NaN     50.56     43.47   \n",
       "\n",
       "    Index_Asian Index_Black Index_PacIs Index_Hispanic Index_Multi  \\\n",
       "842         NaN         NaN         NaN          52.13         NaN   \n",
       "\n",
       "    Index_NatAm Index_White  \n",
       "842         NaN       54.53  \n",
       "\n",
       "[1 rows x 71 columns]"
      ]
     },
     "execution_count": 3,
     "metadata": {},
     "output_type": "execute_result"
    }
   ],
   "source": [
    "df.sample()"
   ]
  },
  {
   "cell_type": "markdown",
   "id": "9e3889fd-a3b6-422c-975f-e85a69926f9b",
   "metadata": {},
   "source": [
    "#### Noting that there are 71 columns in the original data frame"
   ]
  },
  {
   "cell_type": "markdown",
   "id": "3de08dd5-a8ae-43f7-9580-f273dd49ce18",
   "metadata": {},
   "source": [
    "# Cleaning Columns that have Missing Values"
   ]
  },
  {
   "cell_type": "markdown",
   "id": "6f096717-4539-4d18-beb6-c4ad38f4f9a6",
   "metadata": {},
   "source": [
    "### Confirming column names"
   ]
  },
  {
   "cell_type": "code",
   "execution_count": 4,
   "id": "1d3112fe-304a-4da0-af0d-de502984990d",
   "metadata": {},
   "outputs": [
    {
     "data": {
      "text/plain": [
       "Index(['Reporting_Year', 'School_Code', 'School_Name', 'District_Code',\n",
       "       'District_Name', 'AEA_Name', 'Grade_Range', 'School_Type',\n",
       "       'School_Index', 'School_Rating_Category', 'ESSA_Support_Status',\n",
       "       'Comprehensive_Decision', 'Targeted_Decision', 'Targeted_Subgroups',\n",
       "       'School_Index_Source', 'Address1', 'Address2', 'City', 'State', 'ZIP',\n",
       "       'Phone', 'Fax', 'Website', 'Email', 'School_Administrator_Name',\n",
       "       'School_Administrator_Title', 'Count_Male', 'Percent_Male',\n",
       "       'Count_Female', 'Percent_Female', 'Count_EL', 'Percent_EL', 'Count_FRL',\n",
       "       'Percent_FRL', 'Count_IEP', 'Percent_IEP', 'Count_Asian',\n",
       "       'Percent_Asian', 'Count_Black', 'Percent_Black', 'Count_PacIs',\n",
       "       'Percent_PacIs', 'Count_Hispanic', 'Percent_Hispanic', 'Count_Multi',\n",
       "       'Percent_Multi', 'Count_NatAm', 'Percent_NatAm', 'Count_White',\n",
       "       'Percent_White', 'Count_Foster_Care', 'Percent_Foster_Care',\n",
       "       'Count_Military_Connected', 'Percent_Military_Connected',\n",
       "       'Count_Migrant', 'Percent_Migrant', 'Count_Homeless',\n",
       "       'Percent_Homeless', 'Count_All_Students', 'Count_NonBinary',\n",
       "       'Percent_NonBinary', 'Index_EL', 'Index_FRL', 'Index_IEP',\n",
       "       'Index_Asian', 'Index_Black', 'Index_PacIs', 'Index_Hispanic',\n",
       "       'Index_Multi', 'Index_NatAm', 'Index_White'],\n",
       "      dtype='object')"
      ]
     },
     "execution_count": 4,
     "metadata": {},
     "output_type": "execute_result"
    }
   ],
   "source": [
    "df.columns"
   ]
  },
  {
   "cell_type": "markdown",
   "id": "cbc4a986-7e21-41fa-92e4-6f3a6d2c6a87",
   "metadata": {},
   "source": [
    "### From the Data Exploration, the first columns that will be removed are 'Address2', 'Website', and 'Phone'.  "
   ]
  },
  {
   "cell_type": "code",
   "execution_count": 5,
   "id": "4fa9823c-fd13-44f7-a13b-0b6d4709c7c5",
   "metadata": {},
   "outputs": [],
   "source": [
    "df_updated_cols = df.drop(['Address2', 'Website', 'Phone', 'Fax'], axis = 1)"
   ]
  },
  {
   "cell_type": "markdown",
   "id": "93a61a6f-ade3-46f5-a725-5101832752a9",
   "metadata": {},
   "source": [
    "#### Expecting there to be 67 Remaining Columns after removing 3 from the original 71"
   ]
  },
  {
   "cell_type": "code",
   "execution_count": 6,
   "id": "30e99a72-899f-4f94-aa5a-f0701f5761ae",
   "metadata": {},
   "outputs": [
    {
     "name": "stdout",
     "output_type": "stream",
     "text": [
      "<class 'pandas.core.frame.DataFrame'>\n",
      "RangeIndex: 1295 entries, 0 to 1294\n",
      "Data columns (total 67 columns):\n",
      " #   Column                      Non-Null Count  Dtype  \n",
      "---  ------                      --------------  -----  \n",
      " 0   Reporting_Year              1295 non-null   object \n",
      " 1   School_Code                 1295 non-null   int64  \n",
      " 2   School_Name                 1295 non-null   object \n",
      " 3   District_Code               1295 non-null   int64  \n",
      " 4   District_Name               1295 non-null   object \n",
      " 5   AEA_Name                    1295 non-null   object \n",
      " 6   Grade_Range                 1295 non-null   object \n",
      " 7   School_Type                 1295 non-null   object \n",
      " 8   School_Index                1295 non-null   float64\n",
      " 9   School_Rating_Category      1295 non-null   object \n",
      " 10  ESSA_Support_Status         1295 non-null   object \n",
      " 11  Comprehensive_Decision      1295 non-null   object \n",
      " 12  Targeted_Decision           1295 non-null   object \n",
      " 13  Targeted_Subgroups          348 non-null    object \n",
      " 14  School_Index_Source         119 non-null    object \n",
      " 15  Address1                    1295 non-null   object \n",
      " 16  City                        1295 non-null   object \n",
      " 17  State                       1295 non-null   object \n",
      " 18  ZIP                         1295 non-null   object \n",
      " 19  Email                       1295 non-null   object \n",
      " 20  School_Administrator_Name   1295 non-null   object \n",
      " 21  School_Administrator_Title  1295 non-null   object \n",
      " 22  Count_Male                  1295 non-null   int64  \n",
      " 23  Percent_Male                1295 non-null   float64\n",
      " 24  Count_Female                1295 non-null   int64  \n",
      " 25  Percent_Female              1295 non-null   float64\n",
      " 26  Count_EL                    1295 non-null   int64  \n",
      " 27  Percent_EL                  1295 non-null   float64\n",
      " 28  Count_FRL                   1295 non-null   int64  \n",
      " 29  Percent_FRL                 1295 non-null   float64\n",
      " 30  Count_IEP                   1295 non-null   int64  \n",
      " 31  Percent_IEP                 1295 non-null   float64\n",
      " 32  Count_Asian                 1295 non-null   int64  \n",
      " 33  Percent_Asian               1295 non-null   float64\n",
      " 34  Count_Black                 1295 non-null   int64  \n",
      " 35  Percent_Black               1295 non-null   float64\n",
      " 36  Count_PacIs                 1295 non-null   int64  \n",
      " 37  Percent_PacIs               1295 non-null   float64\n",
      " 38  Count_Hispanic              1295 non-null   int64  \n",
      " 39  Percent_Hispanic            1295 non-null   float64\n",
      " 40  Count_Multi                 1295 non-null   int64  \n",
      " 41  Percent_Multi               1295 non-null   float64\n",
      " 42  Count_NatAm                 1295 non-null   int64  \n",
      " 43  Percent_NatAm               1295 non-null   float64\n",
      " 44  Count_White                 1295 non-null   int64  \n",
      " 45  Percent_White               1295 non-null   float64\n",
      " 46  Count_Foster_Care           1295 non-null   int64  \n",
      " 47  Percent_Foster_Care         1295 non-null   float64\n",
      " 48  Count_Military_Connected    1295 non-null   int64  \n",
      " 49  Percent_Military_Connected  1295 non-null   float64\n",
      " 50  Count_Migrant               1295 non-null   int64  \n",
      " 51  Percent_Migrant             1295 non-null   float64\n",
      " 52  Count_Homeless              1295 non-null   int64  \n",
      " 53  Percent_Homeless            1295 non-null   float64\n",
      " 54  Count_All_Students          1295 non-null   int64  \n",
      " 55  Count_NonBinary             1295 non-null   int64  \n",
      " 56  Percent_NonBinary           1295 non-null   float64\n",
      " 57  Index_EL                    174 non-null    float64\n",
      " 58  Index_FRL                   1074 non-null   float64\n",
      " 59  Index_IEP                   609 non-null    float64\n",
      " 60  Index_Asian                 83 non-null     float64\n",
      " 61  Index_Black                 207 non-null    float64\n",
      " 62  Index_PacIs                 11 non-null     float64\n",
      " 63  Index_Hispanic              360 non-null    float64\n",
      " 64  Index_Multi                 152 non-null    float64\n",
      " 65  Index_NatAm                 6 non-null      float64\n",
      " 66  Index_White                 1153 non-null   float64\n",
      "dtypes: float64(28), int64(20), object(19)\n",
      "memory usage: 678.0+ KB\n"
     ]
    }
   ],
   "source": [
    "df_updated_cols.info()"
   ]
  },
  {
   "cell_type": "markdown",
   "id": "3036bb6f-5d87-4a52-81e8-06369b197d04",
   "metadata": {},
   "source": [
    "#### 67 Columns retained confirmed in original dataframe. "
   ]
  },
  {
   "cell_type": "markdown",
   "id": "c3cd3f74-f4c8-4d94-bf22-8631baca884b",
   "metadata": {},
   "source": [
    "### The Remaining Columns with missing contain information which may be relevant for Data Analysis. Those remaining columns include: Target_Subgroups, School_Index_Source, Index_EL, Index_FRL, Index_IEP, _Index_Asian, Index_Black_Index_PacIS, _Index_hispanic, Index_Multi, Index_NatAm, Index_white"
   ]
  },
  {
   "cell_type": "markdown",
   "id": "53920f28-fd5a-464f-8d1c-bdf91e9c4957",
   "metadata": {},
   "source": [
    "### Based on Documentation with the Dataset, the Target_Subgroups Column is used when the school is designated as Targeted (under ESSA) and provides the list of subgroups that have an accountability index score at or below 'Comprehensive' score. The field is left blank when the school is not 'Target' for ESSA support, and when if it was Targeted, that it met the 'Comprehensive' index score in all of its student accountability groups. Therefore, 'Achieved Standard' would be appropriate for these blank cells."
   ]
  },
  {
   "cell_type": "markdown",
   "id": "43b72b17-0f42-4739-bdc6-2fb36842c993",
   "metadata": {},
   "source": [
    "### The School Index Source is used when there are too few students enrolled in a school to achieve a calculated accountability index score. This column lists all schools that it inherits its score from, so when it is blank, that indicates that the school is large enough to account for its own data. So, in this case, the blank cells can be filled with 'Independent Institution Data'."
   ]
  },
  {
   "cell_type": "markdown",
   "id": "798259a5-ee9c-4692-8a15-e3b855a90799",
   "metadata": {},
   "source": [
    "### The remaining columns with missing values are all a bit more straight forward. They represent an index score for a specific subgroup at that school. If it is blank, the subgroup is not represented enough to have an accountability index score. The maximum value for these indexes is 100 and the minimum score would be 1. Therefore, a value of '0' will be added to each of these missing values instead."
   ]
  },
  {
   "cell_type": "code",
   "execution_count": 7,
   "id": "c314ff40-043a-4a49-bb82-df7515dfb166",
   "metadata": {},
   "outputs": [],
   "source": [
    "df_clean = df_updated_cols "
   ]
  },
  {
   "cell_type": "markdown",
   "id": "7b790ea2-bb09-4db8-a0ec-c98d3b9da202",
   "metadata": {},
   "source": [
    "### Updating Index Scores"
   ]
  },
  {
   "cell_type": "markdown",
   "id": "a70ea582-0dea-4a76-aa7a-5aa7c5b1300e",
   "metadata": {},
   "source": [
    "#### Creating the list of Index Scores so that they can have all 'NAN' cells filled with '0'"
   ]
  },
  {
   "cell_type": "code",
   "execution_count": 8,
   "id": "caf98d10-3171-47a6-898d-291a3f1bd7d6",
   "metadata": {},
   "outputs": [],
   "source": [
    "Index_list = ['Index_EL', 'Index_FRL', 'Index_IEP', 'Index_Asian', 'Index_Black', 'Index_PacIs', 'Index_Hispanic', 'Index_Multi', 'Index_NatAm', 'Index_White']"
   ]
  },
  {
   "cell_type": "code",
   "execution_count": 9,
   "id": "e97aabab-c4c7-4e3f-bb2d-c711a6bb5ae5",
   "metadata": {},
   "outputs": [],
   "source": [
    "df_clean[Index_list] = df_clean[Index_list].fillna(0)"
   ]
  },
  {
   "cell_type": "markdown",
   "id": "22ffe2d8-9233-4835-b673-db5073f0e9ab",
   "metadata": {},
   "source": [
    "#### Checking to make sure that the step was successful"
   ]
  },
  {
   "cell_type": "code",
   "execution_count": 10,
   "id": "636d3bdc-e1d5-46cc-a307-2e5f9e514973",
   "metadata": {},
   "outputs": [
    {
     "name": "stdout",
     "output_type": "stream",
     "text": [
      "<class 'pandas.core.frame.DataFrame'>\n",
      "RangeIndex: 1295 entries, 0 to 1294\n",
      "Data columns (total 67 columns):\n",
      " #   Column                      Non-Null Count  Dtype  \n",
      "---  ------                      --------------  -----  \n",
      " 0   Reporting_Year              1295 non-null   object \n",
      " 1   School_Code                 1295 non-null   int64  \n",
      " 2   School_Name                 1295 non-null   object \n",
      " 3   District_Code               1295 non-null   int64  \n",
      " 4   District_Name               1295 non-null   object \n",
      " 5   AEA_Name                    1295 non-null   object \n",
      " 6   Grade_Range                 1295 non-null   object \n",
      " 7   School_Type                 1295 non-null   object \n",
      " 8   School_Index                1295 non-null   float64\n",
      " 9   School_Rating_Category      1295 non-null   object \n",
      " 10  ESSA_Support_Status         1295 non-null   object \n",
      " 11  Comprehensive_Decision      1295 non-null   object \n",
      " 12  Targeted_Decision           1295 non-null   object \n",
      " 13  Targeted_Subgroups          348 non-null    object \n",
      " 14  School_Index_Source         119 non-null    object \n",
      " 15  Address1                    1295 non-null   object \n",
      " 16  City                        1295 non-null   object \n",
      " 17  State                       1295 non-null   object \n",
      " 18  ZIP                         1295 non-null   object \n",
      " 19  Email                       1295 non-null   object \n",
      " 20  School_Administrator_Name   1295 non-null   object \n",
      " 21  School_Administrator_Title  1295 non-null   object \n",
      " 22  Count_Male                  1295 non-null   int64  \n",
      " 23  Percent_Male                1295 non-null   float64\n",
      " 24  Count_Female                1295 non-null   int64  \n",
      " 25  Percent_Female              1295 non-null   float64\n",
      " 26  Count_EL                    1295 non-null   int64  \n",
      " 27  Percent_EL                  1295 non-null   float64\n",
      " 28  Count_FRL                   1295 non-null   int64  \n",
      " 29  Percent_FRL                 1295 non-null   float64\n",
      " 30  Count_IEP                   1295 non-null   int64  \n",
      " 31  Percent_IEP                 1295 non-null   float64\n",
      " 32  Count_Asian                 1295 non-null   int64  \n",
      " 33  Percent_Asian               1295 non-null   float64\n",
      " 34  Count_Black                 1295 non-null   int64  \n",
      " 35  Percent_Black               1295 non-null   float64\n",
      " 36  Count_PacIs                 1295 non-null   int64  \n",
      " 37  Percent_PacIs               1295 non-null   float64\n",
      " 38  Count_Hispanic              1295 non-null   int64  \n",
      " 39  Percent_Hispanic            1295 non-null   float64\n",
      " 40  Count_Multi                 1295 non-null   int64  \n",
      " 41  Percent_Multi               1295 non-null   float64\n",
      " 42  Count_NatAm                 1295 non-null   int64  \n",
      " 43  Percent_NatAm               1295 non-null   float64\n",
      " 44  Count_White                 1295 non-null   int64  \n",
      " 45  Percent_White               1295 non-null   float64\n",
      " 46  Count_Foster_Care           1295 non-null   int64  \n",
      " 47  Percent_Foster_Care         1295 non-null   float64\n",
      " 48  Count_Military_Connected    1295 non-null   int64  \n",
      " 49  Percent_Military_Connected  1295 non-null   float64\n",
      " 50  Count_Migrant               1295 non-null   int64  \n",
      " 51  Percent_Migrant             1295 non-null   float64\n",
      " 52  Count_Homeless              1295 non-null   int64  \n",
      " 53  Percent_Homeless            1295 non-null   float64\n",
      " 54  Count_All_Students          1295 non-null   int64  \n",
      " 55  Count_NonBinary             1295 non-null   int64  \n",
      " 56  Percent_NonBinary           1295 non-null   float64\n",
      " 57  Index_EL                    1295 non-null   float64\n",
      " 58  Index_FRL                   1295 non-null   float64\n",
      " 59  Index_IEP                   1295 non-null   float64\n",
      " 60  Index_Asian                 1295 non-null   float64\n",
      " 61  Index_Black                 1295 non-null   float64\n",
      " 62  Index_PacIs                 1295 non-null   float64\n",
      " 63  Index_Hispanic              1295 non-null   float64\n",
      " 64  Index_Multi                 1295 non-null   float64\n",
      " 65  Index_NatAm                 1295 non-null   float64\n",
      " 66  Index_White                 1295 non-null   float64\n",
      "dtypes: float64(28), int64(20), object(19)\n",
      "memory usage: 678.0+ KB\n"
     ]
    }
   ],
   "source": [
    "df_clean.info()"
   ]
  },
  {
   "cell_type": "markdown",
   "id": "eb6d5114-5a35-4cb4-97b8-570c4b842d33",
   "metadata": {},
   "source": [
    "#### All 'Index' subgroup columns now have 1295 values and therefore no missing values. "
   ]
  },
  {
   "cell_type": "markdown",
   "id": "17fb781e-25fd-4b15-9cf6-af4f275713ea",
   "metadata": {},
   "source": [
    "## Updating Target_Subgroups and then School_Index_Source Based on Info Above. "
   ]
  },
  {
   "cell_type": "code",
   "execution_count": 11,
   "id": "c8077bf5-583e-40d6-83ac-d17ebf732447",
   "metadata": {},
   "outputs": [],
   "source": [
    "df_clean['Targeted_Subgroups'] = df_clean['Targeted_Subgroups'].fillna('Achieved Standard')"
   ]
  },
  {
   "cell_type": "code",
   "execution_count": 12,
   "id": "ccb6e1a5-aef1-4039-86e3-ccdb2a8cd20e",
   "metadata": {},
   "outputs": [
    {
     "name": "stdout",
     "output_type": "stream",
     "text": [
      "<class 'pandas.core.frame.DataFrame'>\n",
      "RangeIndex: 1295 entries, 0 to 1294\n",
      "Data columns (total 67 columns):\n",
      " #   Column                      Non-Null Count  Dtype  \n",
      "---  ------                      --------------  -----  \n",
      " 0   Reporting_Year              1295 non-null   object \n",
      " 1   School_Code                 1295 non-null   int64  \n",
      " 2   School_Name                 1295 non-null   object \n",
      " 3   District_Code               1295 non-null   int64  \n",
      " 4   District_Name               1295 non-null   object \n",
      " 5   AEA_Name                    1295 non-null   object \n",
      " 6   Grade_Range                 1295 non-null   object \n",
      " 7   School_Type                 1295 non-null   object \n",
      " 8   School_Index                1295 non-null   float64\n",
      " 9   School_Rating_Category      1295 non-null   object \n",
      " 10  ESSA_Support_Status         1295 non-null   object \n",
      " 11  Comprehensive_Decision      1295 non-null   object \n",
      " 12  Targeted_Decision           1295 non-null   object \n",
      " 13  Targeted_Subgroups          1295 non-null   object \n",
      " 14  School_Index_Source         119 non-null    object \n",
      " 15  Address1                    1295 non-null   object \n",
      " 16  City                        1295 non-null   object \n",
      " 17  State                       1295 non-null   object \n",
      " 18  ZIP                         1295 non-null   object \n",
      " 19  Email                       1295 non-null   object \n",
      " 20  School_Administrator_Name   1295 non-null   object \n",
      " 21  School_Administrator_Title  1295 non-null   object \n",
      " 22  Count_Male                  1295 non-null   int64  \n",
      " 23  Percent_Male                1295 non-null   float64\n",
      " 24  Count_Female                1295 non-null   int64  \n",
      " 25  Percent_Female              1295 non-null   float64\n",
      " 26  Count_EL                    1295 non-null   int64  \n",
      " 27  Percent_EL                  1295 non-null   float64\n",
      " 28  Count_FRL                   1295 non-null   int64  \n",
      " 29  Percent_FRL                 1295 non-null   float64\n",
      " 30  Count_IEP                   1295 non-null   int64  \n",
      " 31  Percent_IEP                 1295 non-null   float64\n",
      " 32  Count_Asian                 1295 non-null   int64  \n",
      " 33  Percent_Asian               1295 non-null   float64\n",
      " 34  Count_Black                 1295 non-null   int64  \n",
      " 35  Percent_Black               1295 non-null   float64\n",
      " 36  Count_PacIs                 1295 non-null   int64  \n",
      " 37  Percent_PacIs               1295 non-null   float64\n",
      " 38  Count_Hispanic              1295 non-null   int64  \n",
      " 39  Percent_Hispanic            1295 non-null   float64\n",
      " 40  Count_Multi                 1295 non-null   int64  \n",
      " 41  Percent_Multi               1295 non-null   float64\n",
      " 42  Count_NatAm                 1295 non-null   int64  \n",
      " 43  Percent_NatAm               1295 non-null   float64\n",
      " 44  Count_White                 1295 non-null   int64  \n",
      " 45  Percent_White               1295 non-null   float64\n",
      " 46  Count_Foster_Care           1295 non-null   int64  \n",
      " 47  Percent_Foster_Care         1295 non-null   float64\n",
      " 48  Count_Military_Connected    1295 non-null   int64  \n",
      " 49  Percent_Military_Connected  1295 non-null   float64\n",
      " 50  Count_Migrant               1295 non-null   int64  \n",
      " 51  Percent_Migrant             1295 non-null   float64\n",
      " 52  Count_Homeless              1295 non-null   int64  \n",
      " 53  Percent_Homeless            1295 non-null   float64\n",
      " 54  Count_All_Students          1295 non-null   int64  \n",
      " 55  Count_NonBinary             1295 non-null   int64  \n",
      " 56  Percent_NonBinary           1295 non-null   float64\n",
      " 57  Index_EL                    1295 non-null   float64\n",
      " 58  Index_FRL                   1295 non-null   float64\n",
      " 59  Index_IEP                   1295 non-null   float64\n",
      " 60  Index_Asian                 1295 non-null   float64\n",
      " 61  Index_Black                 1295 non-null   float64\n",
      " 62  Index_PacIs                 1295 non-null   float64\n",
      " 63  Index_Hispanic              1295 non-null   float64\n",
      " 64  Index_Multi                 1295 non-null   float64\n",
      " 65  Index_NatAm                 1295 non-null   float64\n",
      " 66  Index_White                 1295 non-null   float64\n",
      "dtypes: float64(28), int64(20), object(19)\n",
      "memory usage: 678.0+ KB\n"
     ]
    }
   ],
   "source": [
    "df_clean.info()"
   ]
  },
  {
   "cell_type": "code",
   "execution_count": 13,
   "id": "7182b4ff-fab6-4b64-8e92-69c3c6b3509c",
   "metadata": {},
   "outputs": [],
   "source": [
    "df_clean['School_Index_Source'] = df_clean['School_Index_Source'].fillna('Independent Institutional Data')"
   ]
  },
  {
   "cell_type": "code",
   "execution_count": 14,
   "id": "1df95307-5e7a-4757-a4f5-3b2548c49cca",
   "metadata": {},
   "outputs": [
    {
     "name": "stdout",
     "output_type": "stream",
     "text": [
      "<class 'pandas.core.frame.DataFrame'>\n",
      "RangeIndex: 1295 entries, 0 to 1294\n",
      "Data columns (total 67 columns):\n",
      " #   Column                      Non-Null Count  Dtype  \n",
      "---  ------                      --------------  -----  \n",
      " 0   Reporting_Year              1295 non-null   object \n",
      " 1   School_Code                 1295 non-null   int64  \n",
      " 2   School_Name                 1295 non-null   object \n",
      " 3   District_Code               1295 non-null   int64  \n",
      " 4   District_Name               1295 non-null   object \n",
      " 5   AEA_Name                    1295 non-null   object \n",
      " 6   Grade_Range                 1295 non-null   object \n",
      " 7   School_Type                 1295 non-null   object \n",
      " 8   School_Index                1295 non-null   float64\n",
      " 9   School_Rating_Category      1295 non-null   object \n",
      " 10  ESSA_Support_Status         1295 non-null   object \n",
      " 11  Comprehensive_Decision      1295 non-null   object \n",
      " 12  Targeted_Decision           1295 non-null   object \n",
      " 13  Targeted_Subgroups          1295 non-null   object \n",
      " 14  School_Index_Source         1295 non-null   object \n",
      " 15  Address1                    1295 non-null   object \n",
      " 16  City                        1295 non-null   object \n",
      " 17  State                       1295 non-null   object \n",
      " 18  ZIP                         1295 non-null   object \n",
      " 19  Email                       1295 non-null   object \n",
      " 20  School_Administrator_Name   1295 non-null   object \n",
      " 21  School_Administrator_Title  1295 non-null   object \n",
      " 22  Count_Male                  1295 non-null   int64  \n",
      " 23  Percent_Male                1295 non-null   float64\n",
      " 24  Count_Female                1295 non-null   int64  \n",
      " 25  Percent_Female              1295 non-null   float64\n",
      " 26  Count_EL                    1295 non-null   int64  \n",
      " 27  Percent_EL                  1295 non-null   float64\n",
      " 28  Count_FRL                   1295 non-null   int64  \n",
      " 29  Percent_FRL                 1295 non-null   float64\n",
      " 30  Count_IEP                   1295 non-null   int64  \n",
      " 31  Percent_IEP                 1295 non-null   float64\n",
      " 32  Count_Asian                 1295 non-null   int64  \n",
      " 33  Percent_Asian               1295 non-null   float64\n",
      " 34  Count_Black                 1295 non-null   int64  \n",
      " 35  Percent_Black               1295 non-null   float64\n",
      " 36  Count_PacIs                 1295 non-null   int64  \n",
      " 37  Percent_PacIs               1295 non-null   float64\n",
      " 38  Count_Hispanic              1295 non-null   int64  \n",
      " 39  Percent_Hispanic            1295 non-null   float64\n",
      " 40  Count_Multi                 1295 non-null   int64  \n",
      " 41  Percent_Multi               1295 non-null   float64\n",
      " 42  Count_NatAm                 1295 non-null   int64  \n",
      " 43  Percent_NatAm               1295 non-null   float64\n",
      " 44  Count_White                 1295 non-null   int64  \n",
      " 45  Percent_White               1295 non-null   float64\n",
      " 46  Count_Foster_Care           1295 non-null   int64  \n",
      " 47  Percent_Foster_Care         1295 non-null   float64\n",
      " 48  Count_Military_Connected    1295 non-null   int64  \n",
      " 49  Percent_Military_Connected  1295 non-null   float64\n",
      " 50  Count_Migrant               1295 non-null   int64  \n",
      " 51  Percent_Migrant             1295 non-null   float64\n",
      " 52  Count_Homeless              1295 non-null   int64  \n",
      " 53  Percent_Homeless            1295 non-null   float64\n",
      " 54  Count_All_Students          1295 non-null   int64  \n",
      " 55  Count_NonBinary             1295 non-null   int64  \n",
      " 56  Percent_NonBinary           1295 non-null   float64\n",
      " 57  Index_EL                    1295 non-null   float64\n",
      " 58  Index_FRL                   1295 non-null   float64\n",
      " 59  Index_IEP                   1295 non-null   float64\n",
      " 60  Index_Asian                 1295 non-null   float64\n",
      " 61  Index_Black                 1295 non-null   float64\n",
      " 62  Index_PacIs                 1295 non-null   float64\n",
      " 63  Index_Hispanic              1295 non-null   float64\n",
      " 64  Index_Multi                 1295 non-null   float64\n",
      " 65  Index_NatAm                 1295 non-null   float64\n",
      " 66  Index_White                 1295 non-null   float64\n",
      "dtypes: float64(28), int64(20), object(19)\n",
      "memory usage: 678.0+ KB\n"
     ]
    }
   ],
   "source": [
    "df_clean.info()"
   ]
  },
  {
   "cell_type": "markdown",
   "id": "0938b07e-0df0-4aba-821b-5c1b8614dbd8",
   "metadata": {},
   "source": [
    "#### All remaining columns have 1295 non-null values, meaning there are no missing values remaining in the DataFrame. Next, some additional columns will be removed from the Data Frame that will not be used to answer the Data Questions."
   ]
  },
  {
   "cell_type": "markdown",
   "id": "dd57b8b8-6987-4615-9b7c-d6961d27c38f",
   "metadata": {},
   "source": [
    "### Columns that do not include data that can be used to answer data questions include the Reporting Year (all data collected was from the same Reporting Year), all School Addres Information, the Grade Range (in this case School Type captures same information), the AEA Name, and the Counts for the Subgroups since Percentages will be more appropriate to compare schools against each other. If a school does not have enough students (either in total) or of a subgroup, they will not have their own Index Score, so the counts will be unnecessary information."
   ]
  },
  {
   "cell_type": "code",
   "execution_count": 15,
   "id": "a36f3306-3fe0-4355-982d-7b9ebec54284",
   "metadata": {
    "scrolled": true
   },
   "outputs": [],
   "source": [
    "df_final = df_clean.drop(['Reporting_Year', 'AEA_Name', 'Grade_Range', 'Address1', 'City', 'State', 'ZIP', 'Email', 'School_Administrator_Name', 'School_Administrator_Title'], axis=1)"
   ]
  },
  {
   "cell_type": "markdown",
   "id": "a8f7e292-25f7-4b51-9523-a3732fa81307",
   "metadata": {},
   "source": [
    "#### Removed 10 total columns, expecting 57 remaining (were 67)"
   ]
  },
  {
   "cell_type": "code",
   "execution_count": 16,
   "id": "f1d67af3-ff4e-48f1-86a4-1ee2e160c6b3",
   "metadata": {},
   "outputs": [
    {
     "name": "stdout",
     "output_type": "stream",
     "text": [
      "<class 'pandas.core.frame.DataFrame'>\n",
      "RangeIndex: 1295 entries, 0 to 1294\n",
      "Data columns (total 57 columns):\n",
      " #   Column                      Non-Null Count  Dtype  \n",
      "---  ------                      --------------  -----  \n",
      " 0   School_Code                 1295 non-null   int64  \n",
      " 1   School_Name                 1295 non-null   object \n",
      " 2   District_Code               1295 non-null   int64  \n",
      " 3   District_Name               1295 non-null   object \n",
      " 4   School_Type                 1295 non-null   object \n",
      " 5   School_Index                1295 non-null   float64\n",
      " 6   School_Rating_Category      1295 non-null   object \n",
      " 7   ESSA_Support_Status         1295 non-null   object \n",
      " 8   Comprehensive_Decision      1295 non-null   object \n",
      " 9   Targeted_Decision           1295 non-null   object \n",
      " 10  Targeted_Subgroups          1295 non-null   object \n",
      " 11  School_Index_Source         1295 non-null   object \n",
      " 12  Count_Male                  1295 non-null   int64  \n",
      " 13  Percent_Male                1295 non-null   float64\n",
      " 14  Count_Female                1295 non-null   int64  \n",
      " 15  Percent_Female              1295 non-null   float64\n",
      " 16  Count_EL                    1295 non-null   int64  \n",
      " 17  Percent_EL                  1295 non-null   float64\n",
      " 18  Count_FRL                   1295 non-null   int64  \n",
      " 19  Percent_FRL                 1295 non-null   float64\n",
      " 20  Count_IEP                   1295 non-null   int64  \n",
      " 21  Percent_IEP                 1295 non-null   float64\n",
      " 22  Count_Asian                 1295 non-null   int64  \n",
      " 23  Percent_Asian               1295 non-null   float64\n",
      " 24  Count_Black                 1295 non-null   int64  \n",
      " 25  Percent_Black               1295 non-null   float64\n",
      " 26  Count_PacIs                 1295 non-null   int64  \n",
      " 27  Percent_PacIs               1295 non-null   float64\n",
      " 28  Count_Hispanic              1295 non-null   int64  \n",
      " 29  Percent_Hispanic            1295 non-null   float64\n",
      " 30  Count_Multi                 1295 non-null   int64  \n",
      " 31  Percent_Multi               1295 non-null   float64\n",
      " 32  Count_NatAm                 1295 non-null   int64  \n",
      " 33  Percent_NatAm               1295 non-null   float64\n",
      " 34  Count_White                 1295 non-null   int64  \n",
      " 35  Percent_White               1295 non-null   float64\n",
      " 36  Count_Foster_Care           1295 non-null   int64  \n",
      " 37  Percent_Foster_Care         1295 non-null   float64\n",
      " 38  Count_Military_Connected    1295 non-null   int64  \n",
      " 39  Percent_Military_Connected  1295 non-null   float64\n",
      " 40  Count_Migrant               1295 non-null   int64  \n",
      " 41  Percent_Migrant             1295 non-null   float64\n",
      " 42  Count_Homeless              1295 non-null   int64  \n",
      " 43  Percent_Homeless            1295 non-null   float64\n",
      " 44  Count_All_Students          1295 non-null   int64  \n",
      " 45  Count_NonBinary             1295 non-null   int64  \n",
      " 46  Percent_NonBinary           1295 non-null   float64\n",
      " 47  Index_EL                    1295 non-null   float64\n",
      " 48  Index_FRL                   1295 non-null   float64\n",
      " 49  Index_IEP                   1295 non-null   float64\n",
      " 50  Index_Asian                 1295 non-null   float64\n",
      " 51  Index_Black                 1295 non-null   float64\n",
      " 52  Index_PacIs                 1295 non-null   float64\n",
      " 53  Index_Hispanic              1295 non-null   float64\n",
      " 54  Index_Multi                 1295 non-null   float64\n",
      " 55  Index_NatAm                 1295 non-null   float64\n",
      " 56  Index_White                 1295 non-null   float64\n",
      "dtypes: float64(28), int64(20), object(9)\n",
      "memory usage: 576.8+ KB\n"
     ]
    }
   ],
   "source": [
    "df_final.info()"
   ]
  },
  {
   "cell_type": "code",
   "execution_count": 17,
   "id": "02c52fa8-5163-4b56-8ffd-1c6558ce459a",
   "metadata": {},
   "outputs": [],
   "source": [
    "Count_List = ['Count_Male', 'Count_Female', 'Count_EL', 'Count_FRL', 'Count_IEP', 'Count_Asian', 'Count_Black', 'Count_PacIs', 'Count_Hispanic', 'Count_Multi', 'Count_NatAm', 'Count_White', 'Count_Foster_Care', 'Count_Military_Connected', 'Count_Migrant', 'Count_Homeless', 'Count_NonBinary'] "
   ]
  },
  {
   "cell_type": "code",
   "execution_count": 18,
   "id": "66f3a57d-e001-4ca0-b46a-cf0da82c193c",
   "metadata": {},
   "outputs": [
    {
     "data": {
      "text/plain": [
       "['Count_Male',\n",
       " 'Count_Female',\n",
       " 'Count_EL',\n",
       " 'Count_FRL',\n",
       " 'Count_IEP',\n",
       " 'Count_Asian',\n",
       " 'Count_Black',\n",
       " 'Count_PacIs',\n",
       " 'Count_Hispanic',\n",
       " 'Count_Multi',\n",
       " 'Count_NatAm',\n",
       " 'Count_White',\n",
       " 'Count_Foster_Care',\n",
       " 'Count_Military_Connected',\n",
       " 'Count_Migrant',\n",
       " 'Count_Homeless',\n",
       " 'Count_NonBinary']"
      ]
     },
     "execution_count": 18,
     "metadata": {},
     "output_type": "execute_result"
    }
   ],
   "source": [
    "Count_List"
   ]
  },
  {
   "cell_type": "markdown",
   "id": "70fbb936-4a39-4b2a-b79b-d9cb88cc777c",
   "metadata": {},
   "source": [
    "#### This list of 17 Counts should bring the total number of columns down to 40 from 57"
   ]
  },
  {
   "cell_type": "code",
   "execution_count": 19,
   "id": "72061dba-b373-41bd-b772-9504f6d6221b",
   "metadata": {},
   "outputs": [],
   "source": [
    "df_final = df_final.drop(Count_List, axis = 1)"
   ]
  },
  {
   "cell_type": "code",
   "execution_count": 20,
   "id": "547bafa4-3c2e-4d19-b422-3f3a8b1df703",
   "metadata": {},
   "outputs": [
    {
     "name": "stdout",
     "output_type": "stream",
     "text": [
      "<class 'pandas.core.frame.DataFrame'>\n",
      "RangeIndex: 1295 entries, 0 to 1294\n",
      "Data columns (total 40 columns):\n",
      " #   Column                      Non-Null Count  Dtype  \n",
      "---  ------                      --------------  -----  \n",
      " 0   School_Code                 1295 non-null   int64  \n",
      " 1   School_Name                 1295 non-null   object \n",
      " 2   District_Code               1295 non-null   int64  \n",
      " 3   District_Name               1295 non-null   object \n",
      " 4   School_Type                 1295 non-null   object \n",
      " 5   School_Index                1295 non-null   float64\n",
      " 6   School_Rating_Category      1295 non-null   object \n",
      " 7   ESSA_Support_Status         1295 non-null   object \n",
      " 8   Comprehensive_Decision      1295 non-null   object \n",
      " 9   Targeted_Decision           1295 non-null   object \n",
      " 10  Targeted_Subgroups          1295 non-null   object \n",
      " 11  School_Index_Source         1295 non-null   object \n",
      " 12  Percent_Male                1295 non-null   float64\n",
      " 13  Percent_Female              1295 non-null   float64\n",
      " 14  Percent_EL                  1295 non-null   float64\n",
      " 15  Percent_FRL                 1295 non-null   float64\n",
      " 16  Percent_IEP                 1295 non-null   float64\n",
      " 17  Percent_Asian               1295 non-null   float64\n",
      " 18  Percent_Black               1295 non-null   float64\n",
      " 19  Percent_PacIs               1295 non-null   float64\n",
      " 20  Percent_Hispanic            1295 non-null   float64\n",
      " 21  Percent_Multi               1295 non-null   float64\n",
      " 22  Percent_NatAm               1295 non-null   float64\n",
      " 23  Percent_White               1295 non-null   float64\n",
      " 24  Percent_Foster_Care         1295 non-null   float64\n",
      " 25  Percent_Military_Connected  1295 non-null   float64\n",
      " 26  Percent_Migrant             1295 non-null   float64\n",
      " 27  Percent_Homeless            1295 non-null   float64\n",
      " 28  Count_All_Students          1295 non-null   int64  \n",
      " 29  Percent_NonBinary           1295 non-null   float64\n",
      " 30  Index_EL                    1295 non-null   float64\n",
      " 31  Index_FRL                   1295 non-null   float64\n",
      " 32  Index_IEP                   1295 non-null   float64\n",
      " 33  Index_Asian                 1295 non-null   float64\n",
      " 34  Index_Black                 1295 non-null   float64\n",
      " 35  Index_PacIs                 1295 non-null   float64\n",
      " 36  Index_Hispanic              1295 non-null   float64\n",
      " 37  Index_Multi                 1295 non-null   float64\n",
      " 38  Index_NatAm                 1295 non-null   float64\n",
      " 39  Index_White                 1295 non-null   float64\n",
      "dtypes: float64(28), int64(3), object(9)\n",
      "memory usage: 404.8+ KB\n"
     ]
    }
   ],
   "source": [
    "df_final.info()"
   ]
  },
  {
   "cell_type": "markdown",
   "id": "a4e85733-a6b3-4b57-8b30-11b7951eb4a4",
   "metadata": {},
   "source": [
    "#### As expected, the total number of columns was brought to 40 from 57. For individual questions, new data-frames can be created using the remaining columns from this cleaned DataFrame."
   ]
  },
  {
   "cell_type": "markdown",
   "id": "955e0b61-54f0-4e5b-ba00-42ec1cd0e79a",
   "metadata": {},
   "source": [
    "### All of the remaining columns are in the appropriate data type: Percentages are Float, the remaining Count for the Total Students is an integer, and the names of schools and statuses are all Objects."
   ]
  },
  {
   "cell_type": "markdown",
   "id": "39d7af62-b383-481e-9fe1-aec4955533e6",
   "metadata": {},
   "source": [
    "### With regards to Outliers in the data-set, despite utilizing the 'describe()' function, the remaining columns with numeric data include values such as School Code and District Code, where variation would be expected, as well as Index Scores, which are calculated based on the Schools' Performances and should not be modified as well as Percentages of different subgroups within the school, which again should not be modified or removed, as having anomalies in either will assist in finding trends in the data to answer some of the data questions posed. "
   ]
  },
  {
   "cell_type": "markdown",
   "id": "9d16fca2-e9c6-4bcc-8dcb-6ffbb729025b",
   "metadata": {},
   "source": [
    "### Column names are all concise and intuitive, so no modifications of those names have been made, especially now that all columns that will not be used to answer Data Questions have been removed from the original Dataset."
   ]
  },
  {
   "cell_type": "markdown",
   "id": "e50714e5-9403-45a0-8e4b-43c25f91b5f1",
   "metadata": {},
   "source": [
    "### Finally with regards to merging and splitting data, that is unnecessary with this dataset, as the entire Iowa School Performance Profile data collected for the 2022-2023 Academic Reporting Year, rather than all historic data ever collected since the inititative began, and the remaining data columns are all simplified values. "
   ]
  },
  {
   "cell_type": "markdown",
   "id": "58573167-215f-4ffa-979d-7b1eb8e7188d",
   "metadata": {},
   "source": [
    "# Final Product"
   ]
  },
  {
   "cell_type": "code",
   "execution_count": 21,
   "id": "a95f0b4d-2e01-4a63-88d0-e523b3b50f4e",
   "metadata": {},
   "outputs": [
    {
     "name": "stdout",
     "output_type": "stream",
     "text": [
      "      School_Code                             School_Name  District_Code  \\\n",
      "0           90109                       AGWSR High School              9   \n",
      "1           90172                     AGWSR Middle School              9   \n",
      "2           90409                 AGWSR Elementary School              9   \n",
      "3           90427                         The Cougars Den              9   \n",
      "4           90436           AGWSR Elementary at Wellsburg              9   \n",
      "...           ...                                     ...            ...   \n",
      "1290     71100118                        Woodward Academy           7110   \n",
      "1291     71100409          Woodward-Granger Middle School           7110   \n",
      "1292     71100418      Woodward-Granger Elementary School           7110   \n",
      "1293     71100427  Woodward-Granger Early Learning Center           7110   \n",
      "1294     81000101                   Choice Charter School           8100   \n",
      "\n",
      "                              District_Name            School_Type  \\\n",
      "0                AGWSR Comm School District                   High   \n",
      "1                AGWSR Comm School District                 Middle   \n",
      "2                AGWSR Comm School District             Elementary   \n",
      "3                AGWSR Comm School District             Elementary   \n",
      "4                AGWSR Comm School District             Elementary   \n",
      "...                                     ...                    ...   \n",
      "1290  Woodward-Granger Comm School District  Treatment  Facilities   \n",
      "1291  Woodward-Granger Comm School District                 Middle   \n",
      "1292  Woodward-Granger Comm School District             Elementary   \n",
      "1293  Woodward-Granger Comm School District             Elementary   \n",
      "1294                 Choice Charter Schools                Charter   \n",
      "\n",
      "      School_Index School_Rating_Category  ESSA_Support_Status  \\\n",
      "0            56.36            Commendable  No Support Required   \n",
      "1            57.25            Commendable      Targeted Year 2   \n",
      "2            67.32            Exceptional  No Support Required   \n",
      "3            67.32            Exceptional  No Support Required   \n",
      "4            67.32            Exceptional  No Support Required   \n",
      "...            ...                    ...                  ...   \n",
      "1290         54.62             Acceptable  No Support Required   \n",
      "1291         55.65            Commendable  No Support Required   \n",
      "1292         61.65        High Performing  No Support Required   \n",
      "1293         61.65        High Performing  No Support Required   \n",
      "1294         49.85             Acceptable  No Support Required   \n",
      "\n",
      "     Comprehensive_Decision Targeted_Decision  ... Index_EL Index_FRL  \\\n",
      "0                       Met               Met  ...      0.0     53.11   \n",
      "1                       Met               Met  ...      0.0     55.70   \n",
      "2                       Met               Met  ...      0.0     62.05   \n",
      "3                       Met               Met  ...      0.0      0.00   \n",
      "4                       Met               Met  ...      0.0      0.00   \n",
      "...                     ...               ...  ...      ...       ...   \n",
      "1290                    Met               Met  ...      0.0      0.00   \n",
      "1291                    Met               Met  ...      0.0     48.03   \n",
      "1292                    Met               Met  ...      0.0     57.24   \n",
      "1293                    Met               Met  ...      0.0      0.00   \n",
      "1294                    Met               Met  ...      0.0      0.00   \n",
      "\n",
      "      Index_IEP  Index_Asian  Index_Black  Index_PacIs  Index_Hispanic  \\\n",
      "0          0.00          0.0          0.0          0.0             0.0   \n",
      "1         48.63          0.0          0.0          0.0             0.0   \n",
      "2          0.00          0.0          0.0          0.0             0.0   \n",
      "3          0.00          0.0          0.0          0.0             0.0   \n",
      "4          0.00          0.0          0.0          0.0             0.0   \n",
      "...         ...          ...          ...          ...             ...   \n",
      "1290       0.00          0.0          0.0          0.0             0.0   \n",
      "1291      44.74          0.0          0.0          0.0             0.0   \n",
      "1292      54.55          0.0          0.0          0.0             0.0   \n",
      "1293       0.00          0.0          0.0          0.0             0.0   \n",
      "1294       0.00          0.0          0.0          0.0             0.0   \n",
      "\n",
      "      Index_Multi  Index_NatAm  Index_White  \n",
      "0             0.0          0.0        56.60  \n",
      "1             0.0          0.0        57.86  \n",
      "2             0.0          0.0        67.90  \n",
      "3             0.0          0.0         0.00  \n",
      "4             0.0          0.0         0.00  \n",
      "...           ...          ...          ...  \n",
      "1290          0.0          0.0         0.00  \n",
      "1291          0.0          0.0        55.90  \n",
      "1292          0.0          0.0        61.52  \n",
      "1293          0.0          0.0         0.00  \n",
      "1294          0.0          0.0         0.00  \n",
      "\n",
      "[1295 rows x 40 columns]\n"
     ]
    }
   ],
   "source": [
    "print(df_final)"
   ]
  },
  {
   "cell_type": "markdown",
   "id": "725c0720-683f-459b-8671-fdc9cbbdcd38",
   "metadata": {},
   "source": [
    "## Final: All 1295 Rows Remain from the original data set and 71 columns has been reduced to 40. There are no remaining 'NAN' values remaining in any of the dataset, and all of the remaining data includes consistent and simplified data types."
   ]
  },
  {
   "cell_type": "markdown",
   "id": "cbf25de5-7ae4-4cf3-ad11-ad11eeb67d7f",
   "metadata": {},
   "source": [
    "## Save Cleaned Data Frame so that it can be Accessed by Data Results & Visualizations Notebook"
   ]
  },
  {
   "cell_type": "code",
   "execution_count": 22,
   "id": "2794d105-95be-4167-ba26-d122afe5b3be",
   "metadata": {},
   "outputs": [],
   "source": [
    "df_final.to_csv(\"df_final.csv\", index=False)"
   ]
  }
 ],
 "metadata": {
  "kernelspec": {
   "display_name": "Python [conda env:base] *",
   "language": "python",
   "name": "conda-base-py"
  },
  "language_info": {
   "codemirror_mode": {
    "name": "ipython",
    "version": 3
   },
   "file_extension": ".py",
   "mimetype": "text/x-python",
   "name": "python",
   "nbconvert_exporter": "python",
   "pygments_lexer": "ipython3",
   "version": "3.13.5"
  }
 },
 "nbformat": 4,
 "nbformat_minor": 5
}
